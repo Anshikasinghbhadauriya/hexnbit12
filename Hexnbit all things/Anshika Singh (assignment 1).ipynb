{
 "cells": [
  {
   "cell_type": "markdown",
   "metadata": {},
   "source": [
    "<a href='https://www.hexnbit.com/'> <img src='https://www.hexnbit.com/wp-content/uploads/2019/09/hexnbit_final_66px.png'/> </a>"
   ]
  },
  {
   "cell_type": "markdown",
   "metadata": {},
   "source": [
    "# Assignment"
   ]
  },
  {
   "cell_type": "markdown",
   "metadata": {},
   "source": [
    "Mentioned below are the tasks, the solution for each tasks has to be appended by inserting a new cell below the task,\n",
    "along with the following description:-\n",
    "1. Why the method was used (if applicable)\n",
    "2. Explanation of logic"
   ]
  },
  {
   "cell_type": "markdown",
   "metadata": {},
   "source": [
    "### Task 1\n",
    "- Generate integer between (100 to 200) using while loop.\n",
    "- if i want number till 155"
   ]
  },
  {
   "cell_type": "code",
   "execution_count": null,
   "metadata": {},
   "outputs": [],
   "source": [
    "\n",
    "int_a = input(\"Enter a integer from 100 and 200 :\")\n",
    "int_a = int(int_a)\n",
    "\n",
    "\n",
    "# While greater than zero.\n",
    "while int_a >=100:\n",
    "    if int_a<=200:\n",
    "        if int_a % 2==0:\n",
    "            print (\"even number\", int_a)\n",
    "        else:\n",
    "            print(\"odd number\", int_a)\n",
    "    else: break\n",
    "    int_a+=1"
   ]
  },
  {
   "cell_type": "markdown",
   "metadata": {},
   "source": [
    "In problem we using while loop to repeat a section of code an unknown number of times until a specific condition is met\n",
    "this condition work 100to200"
   ]
  },
  {
   "cell_type": "code",
   "execution_count": null,
   "metadata": {},
   "outputs": [],
   "source": [
    "int_a = input(\"Enter a integer from 100 and 155 :\")\n",
    "int_a = int(int_a)\n",
    "\n",
    "\n",
    "# While greater than zero.\n",
    "while int_a >=100:\n",
    "    if int_a<=155:\n",
    "        if int_a % 2==0:\n",
    "            print (\"even number\", int_a)\n",
    "        else:\n",
    "            print(\"odd number\", int_a)\n",
    "    else: break\n",
    "    int_a+=1"
   ]
  },
  {
   "cell_type": "markdown",
   "metadata": {},
   "source": [
    "same first problem this problem we using while loop 100to155"
   ]
  },
  {
   "cell_type": "markdown",
   "metadata": {},
   "source": [
    "### Task 2\n",
    "Refer task 1 and print even and odd number."
   ]
  },
  {
   "cell_type": "code",
   "execution_count": null,
   "metadata": {},
   "outputs": [],
   "source": [
    "num = int(input(\"Enter a number: \"))\n",
    "if (num % 2) == 0:\n",
    "   print(\"{0} is Even\".format(num))\n",
    "else:\n",
    "   print(\"{0} is Odd\".format(num)"
   ]
  },
  {
   "cell_type": "markdown",
   "metadata": {},
   "source": [
    "### Task 3\n",
    "Take value from the user and Seprate them into Positive & negative number."
   ]
  },
  {
   "cell_type": "code",
   "execution_count": null,
   "metadata": {},
   "outputs": [],
   "source": [
    "NumList = []\n",
    "Positive = []\n",
    "Negative = []\n",
    "\n",
    "Number = int(input(\"Please enter the Total Number of List Elements : \"))\n",
    "for i in range(1, Number + 1):\n",
    "    value = int(input(\"Please enter the Value of %d Element : \" %i))\n",
    "    NumList.append(value)\n",
    "\n",
    "for j in range(Number):\n",
    "    if(NumList[j] >= 0):\n",
    "        Positive.append(NumList[j])\n",
    "    else:\n",
    "        Negative.append(NumList[j])\n",
    "\n",
    "print(\"Element in Positive List is : \", Positive)\n",
    "print(\"Element in Negative List is : \", Negative)"
   ]
  },
  {
   "cell_type": "markdown",
   "metadata": {},
   "source": [
    "in above problem solving we use for loop  ,append use and if-else use"
   ]
  },
  {
   "cell_type": "markdown",
   "metadata": {},
   "source": [
    "### Task 4\n",
    "thistuple = (\"apple\", \"banana\", \"cherry\", \"orange\", \"kiwi\", \"melon\", \"mango\")<br>Print thistuple in reverse format."
   ]
  },
  {
   "cell_type": "code",
   "execution_count": null,
   "metadata": {},
   "outputs": [],
   "source": [
    "def Reverse(thistuple):\n",
    "    new_tup = thistuple[::-1]\n",
    "    return new_tup\n",
    "    \n",
    "thistuple = (\"apple\",\"banana\",\"cherry\",\"orange\",\"kiwi\",\"melon\",\"mango\")\n",
    "print(Reverse(thistuple))"
   ]
  },
  {
   "cell_type": "markdown",
   "metadata": {},
   "source": [
    "Reversed() method returns an iterator that accesses the given sequence\n",
    "in reverse order"
   ]
  },
  {
   "cell_type": "markdown",
   "metadata": {},
   "source": [
    "### Task 5\n",
    "Calculate mean, median, mode and standard deviation of given list.<br>\n",
    "A=[2,5,6,9,7,3]<br>B=[2,5,3,2,8,3,2,1,9,4,2,5,6]<br>C=[1,1.5,2,2.5,3,3.5,4,5,6,4.5,5]"
   ]
  },
  {
   "cell_type": "code",
   "execution_count": null,
   "metadata": {},
   "outputs": [],
   "source": [
    "def mean(list_of_numbers):\n",
    "    n=len(list_of_numbers)\n",
    "    res=sum(list_of_numbers)/n\n",
    "    print(\"mean is\",res)\n",
    "def median(list_of_numbers):\n",
    "    list_of_numbers.sort()\n",
    "    n=len(list_of_numbers)\n",
    "    if n % 2 == 0:\n",
    "      median1 = list_of_numbers[n//2]\n",
    "      median2 = list_of_numbers[n//2 - 1]\n",
    "      median = (median1 + median2)/2\n",
    "    else:\n",
    "      median = list_of_numbers[n//2]\n",
    "    print(\"Median is: \" + str(median))\n",
    "        \n",
    "def mode(list_of_numbers):\n",
    "    n=len(list_of_numbers)\n",
    "    counter={}\n",
    "    for i in list_of_numbers:\n",
    "        if i in counter:\n",
    "            counter[i]+=1\n",
    "        else:\n",
    "            counter[i]=1\n",
    "    get_mode=counter\n",
    "    mode = [k for k, v in get_mode.items() if v == max(list(counter.values()))]\n",
    "   \n",
    "    if len(mode) == n:\n",
    "       get_mode = \"No mode found\"\n",
    "       print(get_mode)\n",
    "    else:\n",
    "       get_mode = \"Mode is / are: \" + ', '.join(map(str, mode))\n",
    "      \n",
    "       print(get_mode)    \n",
    "def standard_deviation(list_of_numbers):\n",
    "    n = len(list_of_numbers)\n",
    "    mean = sum(list_of_numbers) / n\n",
    "    var = sum((x - mean)**2 for x in list_of_numbers) / n\n",
    "    std_dev = var ** 0.5\n",
    "    print(\"standard deviation is\",std_dev)\n",
    "    \n",
    "A=[2,5,6,9,7,3]\n",
    "B=[2,5,3,2,8,3,2,1,9,4,2,5,6]\n",
    "C=[1,1.5,2,2.5,3,3.5,4,5,6,4.5,5]\n",
    "mean(A)\n",
    "mean(B)\n",
    "median(A)\n",
    "median(B)\n",
    "mode(A)\n",
    "mode(B)\n",
    "standard_deviation(A)\n",
    "standard_deviation(B)\n",
    "mean(C)\n",
    "median(C)\n",
    "standard_deviation(C)\n"
   ]
  },
  {
   "cell_type": "markdown",
   "metadata": {},
   "source": [
    "in mean find avg of number and in median firstly arrange the number then pic middle number and in find mode we pic more frequency numberthen find standard derivation it is square root of variance"
   ]
  },
  {
   "cell_type": "markdown",
   "metadata": {},
   "source": [
    "### Task 6:\n",
    "- Write a program to find compound interest\n",
    "- A = P(1 + R/100) t\n",
    "\n",
    "    Compound Interest = A – P\n",
    "    Where,\n",
    "    \n",
    "    A is amount\n",
    "    \n",
    "    P is principle amount\n",
    "    \n",
    "    R is the rate and\n",
    "    \n",
    "    T is the time span"
   ]
  },
  {
   "cell_type": "code",
   "execution_count": null,
   "metadata": {},
   "outputs": [],
   "source": [
    "def compound_interest(principle, rate, time):\n",
    "    \n",
    "    Amount = principle * (pow((1 + rate / 100), time))\n",
    "    CI = Amount - principle\n",
    "    print(\"Compound interest is\", CI)\n",
    " \n",
    " \n",
    "\n",
    "compound_interest(10000, 10.25, 9)"
   ]
  },
  {
   "cell_type": "markdown",
   "metadata": {},
   "source": [
    "Compound interesr is based on the principal amount and the interest that accumulates on it in every period"
   ]
  },
  {
   "cell_type": "markdown",
   "metadata": {},
   "source": [
    "### Task 7:\n",
    "Write a Python program to sum all the items in a list.\n",
    "[2,3,4,-4,5,6,7,12]\n"
   ]
  },
  {
   "cell_type": "code",
   "execution_count": null,
   "metadata": {},
   "outputs": [],
   "source": [
    "def sum_list(items):\n",
    "    sum_numbers = 0\n",
    "    for x in items:\n",
    "        sum_numbers += x\n",
    "    return sum_numbers\n",
    "print(sum_list([2,3,4,-4,5,6,7,12]))"
   ]
  },
  {
   "cell_type": "markdown",
   "metadata": {},
   "source": [
    "return is a statement that instructs a program to leave the subroutine and go back to the return address. The return address is located where the subroutine was called."
   ]
  },
  {
   "cell_type": "markdown",
   "metadata": {},
   "source": [
    "### Task 8\n",
    "\n",
    "- A company decided to give bonus of 5% to employee if his/her year of service is more than 5 years.\n",
    "    Ask user for their salary and year of service and print the net bonus amount.\n"
   ]
  },
  {
   "cell_type": "code",
   "execution_count": null,
   "metadata": {},
   "outputs": [],
   "source": [
    "a=int(input(\"Enter salary\")) \n",
    "b=int(input(\"Enter year of service\"))\n",
    "c=a+a/20 #a/20 gives 5%\n",
    "if(b>5):\n",
    "    print(c)\n",
    "else:\n",
    "    print(a)"
   ]
  },
  {
   "cell_type": "markdown",
   "metadata": {},
   "source": [
    "This problem we using if and else statement it work is execute a block of code if a specified condition is true"
   ]
  },
  {
   "cell_type": "markdown",
   "metadata": {},
   "source": [
    "### Task 9:\n",
    "- Take values of length and breadth of a rectangle from user and check if it is square or not.\n",
    "- Take two int values from user and print greatest among them."
   ]
  },
  {
   "cell_type": "code",
   "execution_count": null,
   "metadata": {},
   "outputs": [],
   "source": [
    "length=int(input(\"Enter the length\\n\"))\n",
    "breadth=int(input(\"Enter the breadth\\n\"))\n",
    "if length==breadth:\n",
    "    print(\"It is a square\")\n",
    "else: \n",
    "    print(\"It is not a square\")   "
   ]
  },
  {
   "cell_type": "code",
   "execution_count": null,
   "metadata": {},
   "outputs": [],
   "source": [
    "\n",
    "num1 = int(input(\"Enter first number:\"))\n",
    "num2 = int(input(\"Enter second number:\"))\n",
    "if num1 >= num2:\n",
    "    if num1 == num2:\n",
    "        print(\"Both numbers are equal.\")\n",
    "    else:\n",
    "        print(\"First number is  greater than the second number.\")\n",
    "else:\n",
    "            print(\"Second number is greater than the First number.\")"
   ]
  },
  {
   "cell_type": "markdown",
   "metadata": {},
   "source": [
    "### Task 10: \n",
    "\n",
    "- A student will not be allowed to sit in exam if his/her attendence is less than 75%.\n",
    "    Take following input from user\n",
    "    Number of classes held\n",
    "    Number of classes attended.\n",
    "    And print\n",
    "    percentage of class attended\n",
    "    Is student is allowed to sit in exam or not.\n",
    "\n",
    "- Modify the above question to allow student to sit if he/she has medical cause. Ask user if he/she has medical cause or not ( 'Y' or 'N' ) and print accordingly."
   ]
  },
  {
   "cell_type": "code",
   "execution_count": null,
   "metadata": {},
   "outputs": [],
   "source": []
  },
  {
   "cell_type": "code",
   "execution_count": null,
   "metadata": {},
   "outputs": [],
   "source": [
    " Task 11\n",
    "- Write a program to find prime factor of a number.\n",
    "If a factor of a number is prime number then it is its prime factor.\n",
    "- Write a program to print all prime number in between 1 to 100. \n"
   ]
  },
  {
   "cell_type": "code",
   "execution_count": null,
   "metadata": {},
   "outputs": [],
   "source": [
    "import math\n",
    "def primefactors(n):\n",
    "   #even number divisible\n",
    "   while n % 2 == 0:\n",
    "      print (2),\n",
    "      n = n / 2\n",
    "   \n",
    "   #n became odd\n",
    "   for i in range(3,int(math.sqrt(n))+1,2):\n",
    "    \n",
    "      while (n % i == 0):\n",
    "         print (i)\n",
    "         n = n / i\n",
    "   \n",
    "   if n > 2:\n",
    "      print (n)\n",
    "\n",
    "n = int(input(\"Enter the number for calculating the prime factors :\\n\"))\n",
    "primefactors(n)"
   ]
  },
  {
   "cell_type": "markdown",
   "metadata": {},
   "source": [
    "prime factor is a natural number, other than 1, whose only factors are 1 and itself. The first few prime numbers are actually 2, 3, 5, 7, 11, and so on."
   ]
  },
  {
   "cell_type": "code",
   "execution_count": null,
   "metadata": {},
   "outputs": [],
   "source": [
    "num = 29\n",
    "\n",
    "# To take input from the user\n",
    "#num = int(input(\"Enter a number: \"))\n",
    "\n",
    "# define a flag variable\n",
    "flag = False\n",
    "\n",
    "# prime numbers are greater than 1\n",
    "if num > 1:\n",
    "    # check for factors\n",
    "    for i in range(2, num):\n",
    "        if (num % i) == 0:\n",
    "            # if factor is found, set flag to True\n",
    "            flag = True\n",
    "            # break out of loop\n",
    "            break\n",
    "\n",
    "# check if flag is True\n",
    "if flag:\n",
    "    print(num, \"is not a prime number\")\n",
    "else:\n",
    "    print(num, \"is a prime number\")"
   ]
  },
  {
   "cell_type": "markdown",
   "metadata": {},
   "source": [
    "To take input from the user and num =int(input(\"Enter a number:\")).\n",
    "prime numbers are greater than 1\n",
    "then check  if flag is true"
   ]
  },
  {
   "cell_type": "markdown",
   "metadata": {},
   "source": [
    "### Task 12\n",
    "- Write a program to print Fibonacci series up to n terms\n",
    "    - *Hint:* 0, 1, 1, 2, 3, 5, 8, 13, 21... "
   ]
  },
  {
   "cell_type": "code",
   "execution_count": null,
   "metadata": {},
   "outputs": [],
   "source": [
    "num = 10\n",
    "n1, n2 = 0, 1\n",
    "print(\"Fibonacci series:\", n1,n2, end=\" \") \n",
    "for i in range(2, num):\n",
    "    n3=n1 + n2\n",
    "    n1 = n2\n",
    "    n2 = n3\n",
    "    print(n3, end=\" \")"
   ]
  },
  {
   "cell_type": "markdown",
   "metadata": {},
   "source": [
    "Fabonacci series up to n terms first we have printed fist two terms of the fibonacci sequence before using a for loop to print the next n terms"
   ]
  },
  {
   "cell_type": "markdown",
   "metadata": {},
   "source": [
    "### Task 13:\n",
    "Print the following patterns using loop :\n",
    "\n",
    "    a.\n",
    "        *\n",
    "        **\n",
    "        ***\n",
    "        ****\n",
    "    b.\n",
    "          *  \n",
    "         *** \n",
    "        *****\n",
    "         *** \n",
    "          *  \n",
    "    "
   ]
  },
  {
   "cell_type": "code",
   "execution_count": null,
   "metadata": {},
   "outputs": [],
   "source": [
    "rows = 4\n",
    "for i in range (0,rows):\n",
    "    for j in range(0, i + 1):\n",
    "        print(\"*\", end=\" \")\n",
    "    print(\"\\r\")"
   ]
  },
  {
   "cell_type": "markdown",
   "metadata": {},
   "source": [
    "In this question we using  row and column r,j in star pattern we using \n",
    "for loop .It is used to repeat a specific block of code a known number of times"
   ]
  },
  {
   "cell_type": "code",
   "execution_count": null,
   "metadata": {},
   "outputs": [],
   "source": [
    " row=int(input())\n",
    "sp1=row-1\n",
    "pat1=1\n",
    "for i in range(1,row+1):\n",
    "  print(' ' sp1  +  '' * pat1)\n",
    "  sp1-=1\n",
    "  pat1+=2\n",
    "pat2=2*row-3\n",
    "sp2=1\n",
    "for j in range(1,row):\n",
    "  print(' ' * sp2  +  '*' * pat2)\n",
    "  sp2+=1\n",
    "  pat2-=2\n"
   ]
  },
  {
   "cell_type": "markdown",
   "metadata": {},
   "source": [
    "in this problem we using  for loop in solving star pattern"
   ]
  },
  {
   "cell_type": "markdown",
   "metadata": {},
   "source": [
    "### Task 14:\n",
    "- Create a function that accepts a string and calculate the number of upper case letters and lower case letters"
   ]
  },
  {
   "cell_type": "code",
   "execution_count": null,
   "metadata": {},
   "outputs": [],
   "source": [
    "def string_test(s):\n",
    "    d={\"UPPER_CASE\" :0, \"LOWER_CASE\": 0}\n",
    "    for c in s:\n",
    "        if c.isupper():\n",
    "           d[\"UPPER_CASE\"]+=1\n",
    "        elif c.islower():\n",
    "           d[\"LOWER_CASE\"]+=1\n",
    "        else:\n",
    "            pass\n",
    "    print(\"Original String : \", s)\n",
    "    print(\"No. of Upper case characters : \", d[\"UPPER_CASE\"])\n",
    "    print(\"No. of Lower case characters : \", d[\"LOWER_CASE\"])\n",
    "\n",
    "string_test(\"The quick brown fox\")"
   ]
  },
  {
   "cell_type": "markdown",
   "metadata": {},
   "source": [
    "string is stores a sequence of elements,typically characters using some character encoding it denotes more general array .Upper() is a built -in method used for string handling. The Upper()methods returns the uppercased string given string . it converts all lowercase characters to uppercase. if no lowercase characterexist , it returns the original string"
   ]
  },
  {
   "cell_type": "markdown",
   "metadata": {},
   "source": [
    "### Task 15\n",
    "\n",
    "- Write a Python program to convert radian to degree with using math module"
   ]
  },
  {
   "cell_type": "code",
   "execution_count": null,
   "metadata": {},
   "outputs": [],
   "source": [
    "pi = 22/7\n",
    "radian = float(input(\"Input radians: \"))\n",
    "degree = radian*(180/pi)\n",
    "print(degree)"
   ]
  },
  {
   "cell_type": "markdown",
   "metadata": {},
   "source": [
    "The radian is the standard unit of angular measure, used in many areas of mathematics. one radian is =57.3 radian"
   ]
  }
 ],
 "metadata": {
  "kernelspec": {
   "display_name": "Python 3",
   "language": "python",
   "name": "python3"
  },
  "language_info": {
   "codemirror_mode": {
    "name": "ipython",
    "version": 3
   },
   "file_extension": ".py",
   "mimetype": "text/x-python",
   "name": "python",
   "nbconvert_exporter": "python",
   "pygments_lexer": "ipython3",
   "version": "3.8.1"
  }
 },
 "nbformat": 4,
 "nbformat_minor": 4
}
