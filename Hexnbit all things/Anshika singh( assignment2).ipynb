{
 "cells": [
  {
   "cell_type": "markdown",
   "metadata": {},
   "source": [
    "<a href='https://www.hexnbit.com/'> <img src='https://www.hexnbit.com/wp-content/uploads/2019/09/hexnbit_final_66px.png'/> </a>"
   ]
  },
  {
   "cell_type": "markdown",
   "metadata": {},
   "source": [
    "# Assignment"
   ]
  },
  {
   "cell_type": "markdown",
   "metadata": {},
   "source": [
    "Mentioned below are the tasks, the solution for each tasks has to be appended by inserting a new cell below the task,\n",
    "along with the following description:-\n",
    "1. Why the method was used (if applicable)\n",
    "2. Explanation of logic"
   ]
  },
  {
   "cell_type": "markdown",
   "metadata": {},
   "source": [
    "### Task1\n",
    "\n",
    "- Convert all characters of the word \"PYTHON\" to its decimal equivalent and then store them.\n",
    "- Convert all the decimal equvalents back to characters \n",
    "\n",
    "**Hint:** Built in functions to do so are there to perform this task\n",
    "Refer https://docs.python.org/3/library/functions.html"
   ]
  },
  {
   "cell_type": "markdown",
   "metadata": {},
   "source": [
    "### Task2\n",
    "- Raise 2 to the power 10"
   ]
  },
  {
   "cell_type": "code",
   "execution_count": null,
   "metadata": {},
   "outputs": [
    {
     "name": "stdout",
     "output_type": "stream",
     "text": [
      "the value of 2**10 is :  1024\n"
     ]
    }
   ],
   "source": [
    "print(\"the value of 2**10 is : \", end=\" \")\n",
    "print(pow(2, 10))\n"
   ]
  },
  {
   "cell_type": "markdown",
   "metadata": {},
   "source": [
    "### Task3\n",
    "\n",
    "- From the given list, starting from Japan, print alternate elements\n",
    "- From the given list, print element at indexes 1,4,5,8 (**Hint**: Use for loop or list comprehension)"
   ]
  },
  {
   "cell_type": "code",
   "execution_count": null,
   "metadata": {},
   "outputs": [
    {
     "name": "stdout",
     "output_type": "stream",
     "text": [
      "the original list : ['India', 'Japan', 'Singapore', 'China', 'Australia', 'Africa', 'Dubai', 'France', 'Italy', 'Germany']\n",
      "the alternate element  list is : ['Japan', 'China', 'Africa', 'France', 'Germany']\n"
     ]
    }
   ],
   "source": [
    "# Task 3\n",
    "list1=[\"India\", \"Japan\",\"Singapore\",\"China\",\"Australia\",\"Africa\",\"Dubai\",\"France\",\"Italy\",\"Germany\"]\n",
    "print(\"the original list : \" + str(list1))\n",
    "res =[list1[i]  for i in range(len(list1)) if i % 2!=0]\n",
    "print(\"the alternate element  list is : \" + str(res))"
   ]
  },
  {
   "cell_type": "markdown",
   "metadata": {},
   "source": [
    " DESCRIPTION:-Shorthand to the naive method, list comprehension provides a faster way to perform this particular task. In this method, all the indices which are not multiple of 2, hence odd are inserted in the new list\n",
    " "
   ]
  },
  {
   "cell_type": "code",
   "execution_count": 6,
   "metadata": {},
   "outputs": [
    {
     "name": "stdout",
     "output_type": "stream",
     "text": [
      "Original list : ['India', 'Japan', 'Singapore', 'China', 'Australia', 'Africa', 'Dubai', 'France', 'Italy', 'Germany']\n",
      "Original index list : [1, 4, 5, 8]\n",
      "Resultant list : ['Japan', 'Australia', 'Africa', 'Italy']\n"
     ]
    }
   ],
   "source": [
    "list1=[\"India\", \"Japan\",\"Singapore\",\"China\",\"Australia\",\"Africa\",\"Dubai\",\"France\",\"Italy\",\"Germany\"]\n",
    "\n",
    "\n",
    "index_list = [1, 4, 5, 8] \n",
    "\n",
    "  \n",
    "# printing original lists \n",
    "\n",
    "print (\"Original list : \" + str(list1)) \n",
    "\n",
    "print (\"Original index list : \" + str(index_list)) \n",
    "\n",
    "  \n",
    "# using list comprehension to  \n",
    "# elements from list  \n",
    "\n",
    "res_list = [list1[i] for i in index_list] \n",
    "\n",
    "      \n",
    "# printing result \n",
    "\n",
    "print (\"Resultant list : \" + str(res_list))\n"
   ]
  },
  {
   "cell_type": "markdown",
   "metadata": {},
   "source": [
    "DESCRIPTION:-list comprehension \n",
    "This task is easy to perform with a loop, and hence shorthand for it is the first method to start with this task. Iterating over the index list to get the corresponding elements from list into new list is brute method to perform this task."
   ]
  },
  {
   "cell_type": "markdown",
   "metadata": {},
   "source": [
    "### Task4\n",
    "\n",
    "- From the given list, extract the \"Hex\" and print it"
   ]
  },
  {
   "cell_type": "code",
   "execution_count": 7,
   "metadata": {},
   "outputs": [
    {
     "name": "stdout",
     "output_type": "stream",
     "text": [
      "\" Hex \"\n"
     ]
    }
   ],
   "source": [
    "# Task 4\n",
    "list2=[22,[4, [True, False], 6, 8], [888, 999,[111,222,[\"Hex\"]]] ] #GIVEN LIST2\n",
    "a= (list2[2][2][2]) #access list of list\n",
    "b=a[0]           \n",
    "print('\"',b,'\"' [0]) #print HEX in between \"\" \n"
   ]
  },
  {
   "cell_type": "markdown",
   "metadata": {},
   "source": [
    "DESCRIPTION:-thire is given list list1 and then we acess the list of list of list  contain by \"a\" then acess element name contain by \"b\" then print Hex  in between \" \""
   ]
  },
  {
   "cell_type": "markdown",
   "metadata": {},
   "source": [
    "### Task5\n",
    "\n",
    "- From the given dictionary, fetch the keyword \"TOPD\""
   ]
  },
  {
   "cell_type": "code",
   "execution_count": 8,
   "metadata": {},
   "outputs": [
    {
     "name": "stdout",
     "output_type": "stream",
     "text": [
      "\" TOPD \"\n"
     ]
    }
   ],
   "source": [
    "# Task 5\n",
    "dict1={\"Tevatron\":[\"Technologies\",\"Pvt\",\"Ltd\",{\"Domains\":[\"Embedded\",\"IoT\",\"AI\",\"ML\"],\"Projects\":[\"inhouse\",\"TOPD\"]}]}\n",
    "a= dict1[\"Tevatron\"][3][\"Projects\"][1]\n",
    "print('\"',a,'\"')"
   ]
  },
  {
   "cell_type": "markdown",
   "metadata": {},
   "source": [
    "DESCRIPTION:-Thire is given dictionary name is dict1 and then in next step we acess the TOPD  then print  TOPD in between \" \" "
   ]
  },
  {
   "cell_type": "markdown",
   "metadata": {},
   "source": [
    "### Task6\n",
    "There are 3 height categories\n",
    "\n",
    "**167 and below  =**    Short <br>\n",
    "**168 to 182     =**    Average <br>\n",
    "**182 and above  =**    Tall<br>\n",
    "\n",
    "Write a programe which gets the input from user and prints if the category the person fits in\n",
    "\n",
    "**Hint**: Use function input()"
   ]
  },
  {
   "cell_type": "code",
   "execution_count": 13,
   "metadata": {},
   "outputs": [
    {
     "ename": "SyntaxError",
     "evalue": "invalid syntax (1423429773.py, line 6)",
     "output_type": "error",
     "traceback": [
      "\u001b[1;36m  Input \u001b[1;32mIn [13]\u001b[1;36m\u001b[0m\n\u001b[1;33m    else\u001b[0m\n\u001b[1;37m        ^\u001b[0m\n\u001b[1;31mSyntaxError\u001b[0m\u001b[1;31m:\u001b[0m invalid syntax\n"
     ]
    }
   ],
   "source": [
    "\n",
    "\n",
    "\n",
    "n=int(input())\n",
    "if n<=167:\n",
    "    print(\"Short\")\n",
    "elif(n<=168 and n>=182):\n",
    "    print(\"Average\")\n",
    "else\n",
    "     (n<=182):\n",
    "     print(\"Tall\")\n",
    " \n",
    "    "
   ]
  },
  {
   "cell_type": "markdown",
   "metadata": {},
   "source": [
    "DESCRIPTION:-with the help of input() function then we take the input and apply the contitions and provide limites  then acording to user input then provide output hight is short ,long, average"
   ]
  },
  {
   "cell_type": "markdown",
   "metadata": {},
   "source": [
    "### Task7\n",
    "\n",
    "Using maximum 2 lines of code, generate all upper case alphabets\n",
    "\n",
    "**Hint**: Refer ASCII Table"
   ]
  },
  {
   "cell_type": "code",
   "execution_count": null,
   "metadata": {},
   "outputs": [
    {
     "name": "stdout",
     "output_type": "stream",
     "text": [
      "BANANA\n"
     ]
    }
   ],
   "source": [
    "\n",
    "a=\"banana\"\n",
    "print(a.upper())\n",
    "\n"
   ]
  },
  {
   "cell_type": "markdown",
   "metadata": {},
   "source": [
    "DESCRIPTION:- thire is a is contain the the element banana and then with the help of upper() then we print the banana in capital letter"
   ]
  },
  {
   "cell_type": "markdown",
   "metadata": {},
   "source": [
    "### Task8\n",
    "\n",
    "Generate integers between (100 and 200) both inclusive, using NumPy"
   ]
  },
  {
   "cell_type": "code",
   "execution_count": null,
   "metadata": {},
   "outputs": [
    {
     "name": "stdout",
     "output_type": "stream",
     "text": [
      "161\n"
     ]
    }
   ],
   "source": [
    "import random\n",
    "a=(random.randrange(100,200))\n",
    "print(a)\n"
   ]
  },
  {
   "cell_type": "markdown",
   "metadata": {},
   "source": [
    "DESCRIPTION:-random.random range is print the any  value  randomly in between 100 to 200 "
   ]
  },
  {
   "cell_type": "markdown",
   "metadata": {},
   "source": [
    "### Task9\n",
    "\n",
    "Print all even integers from the array created in Task8"
   ]
  },
  {
   "cell_type": "code",
   "execution_count": null,
   "metadata": {},
   "outputs": [
    {
     "name": "stdout",
     "output_type": "stream",
     "text": [
      "[100 102 104 106 108 110 112 114 116 118 120 122 124 126 128 130 132 134\n",
      " 136 138 140 142 144 146 148 150 152 154 156 158 160 162 164 166 168 170\n",
      " 172 174 176 178 180 182 184 186 188 190 192 194 196 198 200]\n"
     ]
    }
   ],
   "source": [
    "import numpy as np\n",
    "x = np.arange(100,202,2)\n",
    "print(x)"
   ]
  },
  {
   "cell_type": "markdown",
   "metadata": {},
   "source": [
    "DESCRIPTION:-with the help of this np.arrange(100,202,2) thire range is print all even integers from the array  between 100 to 202  but thire becouse of 2 print only 100 to 200   "
   ]
  },
  {
   "cell_type": "markdown",
   "metadata": {},
   "source": [
    "### Task10\n",
    "\n",
    "Print all 100 values from Standard Normal Distribution"
   ]
  },
  {
   "cell_type": "code",
   "execution_count": null,
   "metadata": {},
   "outputs": [
    {
     "name": "stdout",
     "output_type": "stream",
     "text": [
      "[-1.67774917  0.78695658 -1.4422983  -1.66199747 -1.10395296  0.17056898\n",
      "  2.0583152  -0.17417637 -0.70262899  0.85074297 -0.38037147 -1.12210779\n",
      " -0.08610631  0.57632202  0.34593143  2.35936505 -0.15818205 -1.19361955\n",
      "  0.20586249  0.56007203  0.95260824 -0.01205917  0.57196951 -0.21410429\n",
      " -0.37447799 -0.82272526  0.72016809 -2.70551611 -0.24410175  2.11280242\n",
      "  1.99829437  0.16145277  0.62574168 -1.44383662  0.9922016   0.81967042\n",
      "  0.07002482  0.76859512 -0.74410322 -1.22963653  2.41148754  0.3137655\n",
      "  0.58645387 -0.62994682  0.55034096  1.88638884  0.40574187 -0.86069565\n",
      " -0.47590035  0.50283922 -0.34118117 -0.60552609 -0.54564831 -0.78685565\n",
      " -2.15450824  1.01697759 -1.68963684 -0.24519979  0.50808612 -0.78950482\n",
      " -0.93949324  0.03995721 -0.16379534  0.38416669  0.56080884  0.90451578\n",
      "  0.33008517  1.38478146 -0.7257176   0.79896346  1.62731587 -0.48428566\n",
      " -0.74447633  0.29076424 -1.58137308  1.52564381  0.21079288  0.86189584\n",
      "  0.5428264   0.09471559  0.93711303  1.36487151 -0.79969617 -0.17281631\n",
      " -0.92141245  3.0503153  -2.3253488  -0.48616509  1.72418178  1.32240046\n",
      "  2.10384321 -0.06086459  2.0192036  -0.50287518 -0.39193736  0.38774095\n",
      " -0.8024158   1.58767725  0.56519907 -0.74600956]\n"
     ]
    }
   ],
   "source": [
    "import numpy as np\n",
    "r=np.random.normal(size=100)\n",
    "print(r)"
   ]
  },
  {
   "cell_type": "markdown",
   "metadata": {},
   "source": [
    "DESCRIPTION:-thire  r is cantain np.random.normal(size=100)  thire is standard normal distribution size=100 is define then print r "
   ]
  },
  {
   "cell_type": "markdown",
   "metadata": {},
   "source": [
    "### Task11\n",
    "\n",
    "Create a NumPy array of random number, whose dimension attribute is equal to 4"
   ]
  },
  {
   "cell_type": "code",
   "execution_count": null,
   "metadata": {},
   "outputs": [
    {
     "name": "stdout",
     "output_type": "stream",
     "text": [
      "[3 2 0 0]\n"
     ]
    }
   ],
   "source": [
    "import numpy as np\n",
    "rand_array=np.random.randint(0,7,4)\n",
    "print(rand_array)\n"
   ]
  },
  {
   "cell_type": "markdown",
   "metadata": {},
   "source": [
    "DESCRIPTION:-randint() is one of the function for doing random sampling in numpy. It returns an array of specified shape and fills it with random integers from low (inclusive) to high (exclusive), i.e. in the interval [low, high) and random is provide and any randomly numbers whose dimension attribute is equal to 4"
   ]
  },
  {
   "cell_type": "markdown",
   "metadata": {},
   "source": [
    "### Task12\n",
    "\n",
    "Create an NumPy array of 100 values evenly spaced between 10 and 20"
   ]
  },
  {
   "cell_type": "code",
   "execution_count": null,
   "metadata": {},
   "outputs": [
    {
     "name": "stdout",
     "output_type": "stream",
     "text": [
      "[10 12 14 16 18 20]\n"
     ]
    }
   ],
   "source": [
    "import numpy as np\n",
    "array=np.arange(10,22,2)\n",
    "print(array)"
   ]
  },
  {
   "cell_type": "markdown",
   "metadata": {},
   "source": [
    "DESCRIPTION:-np.arange() thire np  is numpy and arange(10,22,2) is arange the numpy array of 100 values which is evenly space between 10 to 20 "
   ]
  },
  {
   "cell_type": "markdown",
   "metadata": {},
   "source": [
    "### Task13\n",
    "\n",
    "Create a NumPy array of shape 5x5 and print the last 3 rows"
   ]
  },
  {
   "cell_type": "code",
   "execution_count": null,
   "metadata": {},
   "outputs": [
    {
     "name": "stdout",
     "output_type": "stream",
     "text": [
      "[[1. 1. 1. 1. 1.]\n",
      " [1. 1. 1. 1. 1.]\n",
      " [1. 1. 1. 1. 1.]\n",
      " [1. 1. 1. 1. 1.]\n",
      " [1. 1. 1. 1. 1.]]\n",
      " print last 3 rows\n",
      "[[1. 1. 1. 1. 1.]\n",
      " [1. 1. 1. 1. 1.]\n",
      " [1. 1. 1. 1. 1.]]\n"
     ]
    }
   ],
   "source": [
    "\n",
    "import numpy as np\n",
    "array=np.ones((5,5))\n",
    "print(array)\n",
    "print(\" print last 3 rows\")\n",
    "print (array[2:5])"
   ]
  },
  {
   "cell_type": "markdown",
   "metadata": {},
   "source": [
    "DESCRIPTION:-ones() becouse of this thire is print 5*5 numpy array is cantaine values then print the array after print last 3 rows which is 3 to 5 then in the next step we will print the array rows 2 to 5 "
   ]
  },
  {
   "cell_type": "markdown",
   "metadata": {},
   "source": [
    "### Task14\n",
    "\n",
    "Using the array created above in Task13, Print the first 2 columns"
   ]
  },
  {
   "cell_type": "code",
   "execution_count": null,
   "metadata": {},
   "outputs": [
    {
     "name": "stdout",
     "output_type": "stream",
     "text": [
      "[[1. 1. 1. 1. 1.]\n",
      " [1. 1. 1. 1. 1.]\n",
      " [1. 1. 1. 1. 1.]\n",
      " [1. 1. 1. 1. 1.]\n",
      " [1. 1. 1. 1. 1.]]\n",
      " print first 2 columns\n",
      "[[1. 1.]\n",
      " [1. 1.]\n",
      " [1. 1.]\n",
      " [1. 1.]\n",
      " [1. 1.]]\n"
     ]
    }
   ],
   "source": [
    "\n",
    "import numpy as np\n",
    "array=np.ones((5,5))\n",
    "print(array)\n",
    "print(\" print first 2 columns\")\n",
    "array1=array[:,[0,1]]\n",
    "print (array1)"
   ]
  },
  {
   "cell_type": "markdown",
   "metadata": {},
   "source": [
    "DESCRIPTION:- one()  pint matrix 5*5which is cantain 1 after then thire is print first 2nd columns"
   ]
  },
  {
   "cell_type": "markdown",
   "metadata": {},
   "source": [
    "### Task15\n",
    "\n",
    "Create an array of 25 random values\n",
    "- Find the sum of all elements\n",
    "- Print the element with maximum value and minimum value"
   ]
  },
  {
   "cell_type": "code",
   "execution_count": null,
   "metadata": {},
   "outputs": [
    {
     "name": "stdout",
     "output_type": "stream",
     "text": [
      "12.31931035580251\n",
      "0.04580672770902994\n",
      "0.9269477678771173\n"
     ]
    }
   ],
   "source": [
    "import random as ran\n",
    "r=[ran.random()for i in range(1,25)]\n",
    "print(sum(r))\n",
    "print(min(r))\n",
    "print(max(r))\n"
   ]
  },
  {
   "cell_type": "markdown",
   "metadata": {},
   "source": [
    "DESCRIPTION :- thire is firstly cantaine the random array in the given range then print the sum of all elements and print the elements with max value and min values"
   ]
  },
  {
   "cell_type": "markdown",
   "metadata": {},
   "source": [
    "### Task16\n",
    "\n",
    "In the array created above, print columns with indexes 1,3,4 without directly indexing them <br>\n",
    "**Hint:** Make use of another list for indexing"
   ]
  },
  {
   "cell_type": "code",
   "execution_count": null,
   "metadata": {},
   "outputs": [
    {
     "data": {
      "text/html": [
       "<div>\n",
       "<style scoped>\n",
       "    .dataframe tbody tr th:only-of-type {\n",
       "        vertical-align: middle;\n",
       "    }\n",
       "\n",
       "    .dataframe tbody tr th {\n",
       "        vertical-align: top;\n",
       "    }\n",
       "\n",
       "    .dataframe thead th {\n",
       "        text-align: right;\n",
       "    }\n",
       "</style>\n",
       "<table border=\"1\" class=\"dataframe\">\n",
       "  <thead>\n",
       "    <tr style=\"text-align: right;\">\n",
       "      <th></th>\n",
       "      <th>D1</th>\n",
       "      <th>D2</th>\n",
       "      <th>D3</th>\n",
       "      <th>D4</th>\n",
       "    </tr>\n",
       "  </thead>\n",
       "  <tbody>\n",
       "    <tr>\n",
       "      <th>R0</th>\n",
       "      <td>0.0</td>\n",
       "      <td>3.0</td>\n",
       "      <td>10.0</td>\n",
       "      <td>13.0</td>\n",
       "    </tr>\n",
       "    <tr>\n",
       "      <th>R1</th>\n",
       "      <td>1.0</td>\n",
       "      <td>4.0</td>\n",
       "      <td>11.0</td>\n",
       "      <td>14.0</td>\n",
       "    </tr>\n",
       "    <tr>\n",
       "      <th>R2</th>\n",
       "      <td>2.0</td>\n",
       "      <td>5.0</td>\n",
       "      <td>NaN</td>\n",
       "      <td>NaN</td>\n",
       "    </tr>\n",
       "    <tr>\n",
       "      <th>R3</th>\n",
       "      <td>NaN</td>\n",
       "      <td>NaN</td>\n",
       "      <td>12.0</td>\n",
       "      <td>15.0</td>\n",
       "    </tr>\n",
       "  </tbody>\n",
       "</table>\n",
       "</div>"
      ],
      "text/plain": [
       "     D1   D2    D3    D4\n",
       "R0  0.0  3.0  10.0  13.0\n",
       "R1  1.0  4.0  11.0  14.0\n",
       "R2  2.0  5.0   NaN   NaN\n",
       "R3  NaN  NaN  12.0  15.0"
      ]
     },
     "execution_count": 46,
     "metadata": {},
     "output_type": "execute_result"
    }
   ],
   "source": [
    "import pandas as pd\n",
    "\n",
    "dict1= {\"D1\":[0,1,2], \n",
    "        \"D2\":[3,4,5]}\n",
    "dict2={\"D3\":[10,11,12],\n",
    "       \"D4\":[13,14,15]}\n",
    "dfl=pd.DataFrame(dict1,index=[\"R0\",\"R1\",\"R2\"])\n",
    "dfr=pd.DataFrame(dict2,index=[\"R0\",\"R1\",\"R3\"])\n",
    "\n",
    "\n",
    "dfl.join(dfr,how=\"outer\") \n",
    "\n",
    "\n",
    "\n",
    "\n",
    "            "
   ]
  },
  {
   "cell_type": "markdown",
   "metadata": {},
   "source": [
    "DESCRIPTION:-thire is create the  dictanary by name dict1 and dict2 which is cantaine the row values and coloum also and print "
   ]
  },
  {
   "cell_type": "markdown",
   "metadata": {},
   "source": [
    "### Task17\n",
    "Read car_sales.csv"
   ]
  },
  {
   "cell_type": "code",
   "execution_count": null,
   "metadata": {},
   "outputs": [
    {
     "data": {
      "text/plain": [
       "pandas.core.frame.DataFrame"
      ]
     },
     "execution_count": 47,
     "metadata": {},
     "output_type": "execute_result"
    }
   ],
   "source": [
    "import pandas as pd\n",
    "dt = pd.read_csv(\"car_sales (1).csv\")\n",
    "type(dt)"
   ]
  },
  {
   "cell_type": "markdown",
   "metadata": {},
   "source": [
    "DESCRIPTION :-pd.read_csv(\"car_sales (1).csv\") read the  all over the date of file which is written in  between\" \"  then print the file type also"
   ]
  },
  {
   "cell_type": "markdown",
   "metadata": {},
   "source": [
    "### Task18\n",
    "Sort data frame in ascending order of the Price column"
   ]
  },
  {
   "cell_type": "code",
   "execution_count": null,
   "metadata": {},
   "outputs": [
    {
     "name": "stdout",
     "output_type": "stream",
     "text": [
      "    Unnamed: 0   Manufacturer     Model     Type  Min.Price  Price  Max.Price  \\\n",
      "30          31           Ford   Festiva    Small        6.9    7.4        7.9   \n",
      "43          44        Hyundai     Excel    Small        6.8    8.0        9.2   \n",
      "52          53          Mazda       323    Small        7.4    8.3        9.1   \n",
      "38          39            Geo     Metro    Small        6.7    8.4       10.0   \n",
      "79          80         Subaru     Justy    Small        7.3    8.4        9.5   \n",
      "..         ...            ...       ...      ...        ...    ...        ...   \n",
      "3            4           Audi       100  Midsize       30.8   37.7       44.6   \n",
      "18          19      Chevrolet  Corvette   Sporty       34.6   38.0       41.5   \n",
      "10          11       Cadillac   Seville  Midsize       37.5   40.1       42.7   \n",
      "47          48       Infiniti       Q45  Midsize       45.4   47.9       50.4   \n",
      "58          59  Mercedes-Benz      300E  Midsize       43.8   61.9       80.0   \n",
      "\n",
      "    MPG.city  MPG.highway             AirBags  ... Passengers Length  \\\n",
      "30        31           33                None  ...          4    141   \n",
      "43        29           33                None  ...          5    168   \n",
      "52        29           37                None  ...          4    164   \n",
      "38        46           50                None  ...          4    151   \n",
      "79        33           37                None  ...          4    146   \n",
      "..       ...          ...                 ...  ...        ...    ...   \n",
      "3         19           26  Driver & Passenger  ...          6    193   \n",
      "18        17           25         Driver only  ...          2    179   \n",
      "10        16           25  Driver & Passenger  ...          5    204   \n",
      "47        17           22         Driver only  ...          5    200   \n",
      "58        19           25  Driver & Passenger  ...          5    187   \n",
      "\n",
      "    Wheelbase  Width  Turn.circle  Rear.seat.room Luggage.room  Weight  \\\n",
      "30         90     63           33            26.0         12.0    1845   \n",
      "43         94     63           35            26.0         11.0    2345   \n",
      "52         97     66           34            27.0         16.0    2325   \n",
      "38         93     63           34            27.5         10.0    1695   \n",
      "79         90     60           32            23.5         10.0    2045   \n",
      "..        ...    ...          ...             ...          ...     ...   \n",
      "3         106     70           37            31.0         17.0    3405   \n",
      "18         96     74           43             NaN          NaN    3380   \n",
      "10        111     74           44            31.0         14.0    3935   \n",
      "47        113     72           42            29.0         15.0    4000   \n",
      "58        110     69           37            27.0         15.0    3525   \n",
      "\n",
      "     Origin                Make  \n",
      "30      USA        Ford Festiva  \n",
      "43  non-USA       Hyundai Excel  \n",
      "52  non-USA           Mazda 323  \n",
      "38  non-USA           Geo Metro  \n",
      "79  non-USA        Subaru Justy  \n",
      "..      ...                 ...  \n",
      "3   non-USA            Audi 100  \n",
      "18      USA  Chevrolet Corvette  \n",
      "10      USA    Cadillac Seville  \n",
      "47  non-USA        Infiniti Q45  \n",
      "58  non-USA  Mercedes-Benz 300E  \n",
      "\n",
      "[93 rows x 28 columns]\n"
     ]
    }
   ],
   "source": [
    "import pandas as pd\n",
    "dt = pd.read_csv(\"car_sales (1).csv\")\n",
    "type(dt)\n",
    "\n",
    "dt.sort_values(by=[\"Price\"],inplace=True)\n",
    "print(dt)\n",
    "\n",
    "\n"
   ]
  },
  {
   "cell_type": "markdown",
   "metadata": {},
   "source": [
    "DESCRIPTION :- thire is firstly read the file  car_sales (1).csv then print the file data after then short the only price coloumn in ascending order"
   ]
  },
  {
   "cell_type": "markdown",
   "metadata": {},
   "source": [
    "### Task19\n",
    "Print number of unique car manufacturers in the data"
   ]
  },
  {
   "cell_type": "code",
   "execution_count": null,
   "metadata": {},
   "outputs": [
    {
     "name": "stdout",
     "output_type": "stream",
     "text": [
      "32\n"
     ]
    }
   ],
   "source": [
    "import pandas as pd\n",
    "dt = pd.read_csv(\"car_sales (1).csv\")\n",
    "type(dt)\n",
    "print(dt[\"Manufacturer\"].nunique())"
   ]
  },
  {
   "cell_type": "markdown",
   "metadata": {},
   "source": [
    "DESCRIPTION :-read the file with the help of file name then  print unique car manufacturing  in car data "
   ]
  },
  {
   "cell_type": "markdown",
   "metadata": {},
   "source": [
    "### Task20\n",
    "Print the maximum Wheelbase from the data"
   ]
  },
  {
   "cell_type": "code",
   "execution_count": 14,
   "metadata": {},
   "outputs": [
    {
     "name": "stdout",
     "output_type": "stream",
     "text": [
      "119\n"
     ]
    }
   ],
   "source": [
    "import pandas as pd\n",
    "Wheelbase=[102,115,102,106,109,105,111,116,108,114,111,101,103,101,108,110,111,116,96,113,104,110,98,97,104,112,105,97,98,113,90,98,100,101,103,119,106,114,93,97,\n",
    "            100,103,107,94,98,94,104,113,103,106,109,117,97,98,103,110,96,105,110,95,113,98,107,96,103,112,104,103,105,110,111,97,99,101,101,108,111,99,102,90,97,102,93,94,99,103,113,93,115,103,97,104,105\n",
    "]\n",
    "print(max(Wheelbase))\n",
    "\n",
    "\n"
   ]
  },
  {
   "cell_type": "markdown",
   "metadata": {},
   "source": [
    "DESCRIPTION:- thire is firstly write the Wheelbase index values then print the max wheelbase"
   ]
  },
  {
   "cell_type": "markdown",
   "metadata": {},
   "source": [
    "### Task21\n",
    "Print the car Model which has maximum Wheelbase"
   ]
  },
  {
   "cell_type": "code",
   "execution_count": 66,
   "metadata": {},
   "outputs": [
    {
     "name": "stdout",
     "output_type": "stream",
     "text": [
      "    Unnamed: 0 Manufacturer    Model     Type  Min.Price  Price  Max.Price  \\\n",
      "0            1        Acura  Integra    Small       12.9   15.9       18.8   \n",
      "1            2        Acura   Legend  Midsize       29.2   33.9       38.7   \n",
      "2            3         Audi       90  Compact       25.9   29.1       32.3   \n",
      "3            4         Audi      100  Midsize       30.8   37.7       44.6   \n",
      "4            5          BMW     535i  Midsize       23.7   30.0       36.2   \n",
      "..         ...          ...      ...      ...        ...    ...        ...   \n",
      "88          89   Volkswagen  Eurovan      Van       16.6   19.7       22.7   \n",
      "89          90   Volkswagen   Passat  Compact       17.6   20.0       22.4   \n",
      "90          91   Volkswagen  Corrado   Sporty       22.9   23.3       23.7   \n",
      "91          92        Volvo      240  Compact       21.8   22.7       23.5   \n",
      "92          93        Volvo      850  Midsize       24.8   26.7       28.5   \n",
      "\n",
      "    MPG.city  MPG.highway             AirBags  ... Passengers Length  \\\n",
      "0         25           31                None  ...          5    177   \n",
      "1         18           25  Driver & Passenger  ...          5    195   \n",
      "2         20           26         Driver only  ...          5    180   \n",
      "3         19           26  Driver & Passenger  ...          6    193   \n",
      "4         22           30         Driver only  ...          4    186   \n",
      "..       ...          ...                 ...  ...        ...    ...   \n",
      "88        17           21                None  ...          7    187   \n",
      "89        21           30                None  ...          5    180   \n",
      "90        18           25                None  ...          4    159   \n",
      "91        21           28         Driver only  ...          5    190   \n",
      "92        20           28  Driver & Passenger  ...          5    184   \n",
      "\n",
      "    Wheelbase  Width  Turn.circle  Rear.seat.room Luggage.room  Weight  \\\n",
      "0         102     68           37            26.5         11.0    2705   \n",
      "1         115     71           38            30.0         15.0    3560   \n",
      "2         102     67           37            28.0         14.0    3375   \n",
      "3         106     70           37            31.0         17.0    3405   \n",
      "4         109     69           39            27.0         13.0    3640   \n",
      "..        ...    ...          ...             ...          ...     ...   \n",
      "88        115     72           38            34.0          NaN    3960   \n",
      "89        103     67           35            31.5         14.0    2985   \n",
      "90         97     66           36            26.0         15.0    2810   \n",
      "91        104     67           37            29.5         14.0    2985   \n",
      "92        105     69           38            30.0         15.0    3245   \n",
      "\n",
      "     Origin                Make  \n",
      "0   non-USA       Acura Integra  \n",
      "1   non-USA        Acura Legend  \n",
      "2   non-USA             Audi 90  \n",
      "3   non-USA            Audi 100  \n",
      "4   non-USA            BMW 535i  \n",
      "..      ...                 ...  \n",
      "88  non-USA  Volkswagen Eurovan  \n",
      "89  non-USA   Volkswagen Passat  \n",
      "90  non-USA  Volkswagen Corrado  \n",
      "91  non-USA           Volvo 240  \n",
      "92  non-USA           Volvo 850  \n",
      "\n",
      "[93 rows x 28 columns]\n",
      "119\n"
     ]
    }
   ],
   "source": [
    "\n",
    "import pandas as pd\n",
    "\n",
    "dt = pd.read_csv(\"car_sales (1).csv\")\n",
    "type(dt)\n",
    "\n",
    "print(dt)\n",
    "print(max(Wheelbase))"
   ]
  },
  {
   "cell_type": "markdown",
   "metadata": {},
   "source": [
    "### Task22\n",
    "\n",
    "Print the Details of car with maximum passenger capacity"
   ]
  }
 ],
 "metadata": {
  "kernelspec": {
   "display_name": "Python 3.9.12",
   "language": "python",
   "name": "python3"
  },
  "language_info": {
   "codemirror_mode": {
    "name": "ipython",
    "version": 3
   },
   "file_extension": ".py",
   "mimetype": "text/x-python",
   "name": "python",
   "nbconvert_exporter": "python",
   "pygments_lexer": "ipython3",
   "version": "3.9.12"
  },
  "vscode": {
   "interpreter": {
    "hash": "2043299c89c8cd0b4d1a6f5cf4529bd58e6a4e0fe3181a25e0d328c821cdc5c5"
   }
  }
 },
 "nbformat": 4,
 "nbformat_minor": 4
}
